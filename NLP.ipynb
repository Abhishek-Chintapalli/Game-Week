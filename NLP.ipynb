{
 "cells": [
  {
   "cell_type": "code",
   "execution_count": 4,
   "metadata": {},
   "outputs": [],
   "source": [
    "import re\n",
    "import nltk\n",
    "from nltk.corpus import stopwords\n",
    "from nltk.tokenize import word_tokenize\n",
    "from nltk.lm import MLE\n",
    "from nltk.util import everygrams"
   ]
  },
  {
   "cell_type": "code",
   "execution_count": 5,
   "metadata": {},
   "outputs": [
    {
     "name": "stderr",
     "output_type": "stream",
     "text": [
      "<>:11: SyntaxWarning: invalid escape sequence '\\w'\n",
      "<>:11: SyntaxWarning: invalid escape sequence '\\w'\n",
      "C:\\Users\\Abhishek Chintapalli\\AppData\\Local\\Temp\\ipykernel_1432\\3274289971.py:11: SyntaxWarning: invalid escape sequence '\\w'\n",
      "  text = re.sub(f'[^\\w\\s]','', text)\n"
     ]
    }
   ],
   "source": [
    "#pre processing\n",
    "\n",
    "def preprocess_data(text):\n",
    "    #remove html tags\n",
    "    text = re.sub('<.*?>','', text)\n",
    "    \n",
    "    # convert text to lower\n",
    "    text = text.lower()\n",
    "    \n",
    "    # remove all punctuation\n",
    "    text = re.sub(f'[^\\w\\s]','', text)\n",
    "    \n",
    "    # remove stop words\n",
    "    stop_words = set(stopwords.words())\n",
    "    tokens = word_tokenize(text)\n",
    "    text = [word for word in tokens if word not in stop_words]"
   ]
  },
  {
   "cell_type": "code",
   "execution_count": 6,
   "metadata": {},
   "outputs": [
    {
     "name": "stderr",
     "output_type": "stream",
     "text": [
      "[nltk_data] Downloading package punkt to C:\\Users\\Abhishek\n",
      "[nltk_data]     Chintapalli\\AppData\\Roaming\\nltk_data...\n",
      "[nltk_data]   Package punkt is already up-to-date!\n"
     ]
    },
    {
     "data": {
      "text/plain": [
       "True"
      ]
     },
     "execution_count": 6,
     "metadata": {},
     "output_type": "execute_result"
    }
   ],
   "source": [
    "# nltk installs\n",
    "\n",
    "nltk.download('punkt')"
   ]
  },
  {
   "cell_type": "code",
   "execution_count": 7,
   "metadata": {},
   "outputs": [],
   "source": [
    "# language model function\n",
    "\n",
    "def language_model(text_data):\n",
    "    tokens = [word_tokenize(sentence) for sentence in text_data]\n",
    "    tokens = [word for sublist in tokens for word in sublist]\n",
    "    bigrams = list(everygrams(tokens, max_len=2))\n",
    "    \n",
    "    if bigrams:\n",
    "        language_model = MLE(2)\n",
    "        \n",
    "        vocabulary = nltk.lm.Vocabulary(tokens)\n",
    "        language_model.fit([bigrams], vocabulary)\n",
    "        return language_model\n",
    "    else:\n",
    "        print(\"No bigrams found. Please input valid text data.\")\n",
    "        return None\n",
    "    \n",
    "text_data = [\n",
    "    \"The quick brown fox jumps over the lazy dog.\",\n",
    "    \"She sells sea shells on the sea shore.\",\n",
    "    \"The cat in the hat plays with the dog in the fog.\",\n",
    "    \"To be or not to be, that is the question.\",\n",
    "    \"All's well that ends well.\",\n",
    "    \"A stitch in time saves nine.\",\n",
    "    \"The early bird catches the worm.\"\n",
    "]\n",
    "\n",
    "language_model = language_model(text_data)"
   ]
  },
  {
   "cell_type": "code",
   "execution_count": 8,
   "metadata": {},
   "outputs": [
    {
     "name": "stdout",
     "output_type": "stream",
     "text": [
      "The bat bat bat bat through the bat forest.\n"
     ]
    }
   ],
   "source": [
    "#generate mad libs\n",
    "\n",
    "def generate_mad_libs(template, language_model):\n",
    "    placeholders = re.findall(r'{(.*?)}', template)\n",
    "    mad_libs = template\n",
    "    \n",
    "    for i in placeholders:\n",
    "        if i == \"noun\":\n",
    "            replacement = input(\"Enter a noun: \")\n",
    "        elif i == \"verb\":\n",
    "            replacement = input(\"Enter a verb: \")\n",
    "        elif i == \"adjective\":\n",
    "            replacement = input(\"Enter a adjecive: \")\n",
    "        elif i == \"adverb\":\n",
    "            replacement = input(\"Enter a adverb: \")\n",
    "        else:\n",
    "            replacement = input(\"Enter a random word: \")\n",
    "        \n",
    "        mad_libs = mad_libs.replace(f\"{{{i}}}\", replacement, 1)\n",
    "        \n",
    "    return mad_libs\n",
    "\n",
    "template = \"The {adjective} {noun} {verb} {adverb} through the {adjective} forest.\"\n",
    "spiderman = \"Spider-Man's Uncle once said 'With great {noun} comes great {noun}.'\"\n",
    "finished_mad_libs = generate_mad_libs(spiderman, language_model)\n",
    "print(finished_mad_libs)"
   ]
  },
  {
   "cell_type": "markdown",
   "metadata": {},
   "source": []
  }
 ],
 "metadata": {
  "kernelspec": {
   "display_name": "Python 3",
   "language": "python",
   "name": "python3"
  },
  "language_info": {
   "codemirror_mode": {
    "name": "ipython",
    "version": 3
   },
   "file_extension": ".py",
   "mimetype": "text/x-python",
   "name": "python",
   "nbconvert_exporter": "python",
   "pygments_lexer": "ipython3",
   "version": "3.12.2"
  }
 },
 "nbformat": 4,
 "nbformat_minor": 2
}
